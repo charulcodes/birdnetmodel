{
 "cells": [
  {
   "cell_type": "markdown",
   "metadata": {},
   "source": [
    "### Imports"
   ]
  },
  {
   "cell_type": "code",
   "execution_count": 1,
   "metadata": {},
   "outputs": [],
   "source": [
    "import matplotlib.pyplot as plt\n",
    "import numpy as np\n",
    "import os, random\n",
    "import shutil\n",
    "import glob\n",
    "import tensorflow as tf\n",
    "from tensorflow import keras\n",
    "from tensorflow.keras.preprocessing.image import ImageDataGenerator\n",
    "%matplotlib inline"
   ]
  },
  {
   "cell_type": "markdown",
   "metadata": {},
   "source": [
    "### Folder names"
   ]
  },
  {
   "cell_type": "code",
   "execution_count": 5,
   "metadata": {},
   "outputs": [],
   "source": [
    "classes = [\n",
    "    \"ANNAS HUMMINGBIRD\",\n",
    "    \"ANTBIRD\",\n",
    "    \"BALD EAGLE\",\n",
    "    \"BARN OWL\",\n",
    "    \"BARN SWALLOW\",\n",
    "    \"BELTED KINGFISHER\",\n",
    "    \"BLACK SWAN\",\n",
    "    \"DOWNY WOODPECKER\",\n",
    "    \"EMPEROR PENGUIN\",\n",
    "    \"OSTRICH\",\n",
    "    \"PEACOCK\",\n",
    "    \"TRUMPTER SWAN\"\n",
    "]"
   ]
  },
  {
   "cell_type": "markdown",
   "metadata": {},
   "source": [
    "### Performing Data Augmentation on remaining images"
   ]
  },
  {
   "cell_type": "code",
   "execution_count": 3,
   "metadata": {},
   "outputs": [],
   "source": [
    "gen = ImageDataGenerator(rotation_range=10, width_shift_range=0.1, height_shift_range=0.1, \n",
    "                         shear_range=0.15, zoom_range=0.1, horizontal_flip=True)"
   ]
  },
  {
   "cell_type": "code",
   "execution_count": 10,
   "metadata": {},
   "outputs": [],
   "source": [
    "os.chdir(\"BirdDataSet/\")\n",
    "os.chdir(\"train/\")\n",
    "\n",
    "for classname in classes:\n",
    "    os.chdir(classname + \"/\")\n",
    "    images = os.listdir(os.getcwd())\n",
    "    #Performing data augmentation\n",
    "    for image_path in images:\n",
    "        image = np.expand_dims(plt.imread(image_path),0)\n",
    "        aug_iter = gen.flow(image, save_to_dir= os.getcwd(), save_prefix= classname + '-aug-image-', save_format='jpeg')\n",
    "        aug_iter.next()\n",
    "        aug_iter.next()\n",
    "    os.chdir(\"../\")\n",
    "\n",
    "os.chdir(\"../\")\n",
    "os.chdir(\"../\")"
   ]
  },
  {
   "cell_type": "code",
   "execution_count": 11,
   "metadata": {},
   "outputs": [],
   "source": [
    "os.chdir(\"BirdDataSet/\")\n",
    "os.chdir(\"valid/\")\n",
    "\n",
    "for classname in classes:\n",
    "    os.chdir(classname + \"/\")\n",
    "    images = os.listdir(os.getcwd())\n",
    "    #Performing data augmentation\n",
    "    for image_path in images:\n",
    "        image = np.expand_dims(plt.imread(image_path),0)\n",
    "        aug_iter = gen.flow(image, save_to_dir= os.getcwd(), save_prefix= classname + '-aug-image-', save_format='jpeg')\n",
    "        aug_iter.next()\n",
    "        aug_iter.next()\n",
    "    os.chdir(\"../\")\n",
    "\n",
    "os.chdir(\"../\")\n",
    "os.chdir(\"../\")"
   ]
  },
  {
   "cell_type": "code",
   "execution_count": 12,
   "metadata": {},
   "outputs": [
    {
     "data": {
      "text/plain": [
       "'D:\\\\birdnetmodel'"
      ]
     },
     "execution_count": 12,
     "metadata": {},
     "output_type": "execute_result"
    }
   ],
   "source": [
    "os.getcwd()"
   ]
  }
 ],
 "metadata": {
  "kernelspec": {
   "display_name": "Python 3",
   "language": "python",
   "name": "python3"
  },
  "language_info": {
   "codemirror_mode": {
    "name": "ipython",
    "version": 3
   },
   "file_extension": ".py",
   "mimetype": "text/x-python",
   "name": "python",
   "nbconvert_exporter": "python",
   "pygments_lexer": "ipython3",
   "version": "3.8.5"
  }
 },
 "nbformat": 4,
 "nbformat_minor": 4
}
